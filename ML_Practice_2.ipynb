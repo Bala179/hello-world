{
 "cells": [
  {
   "cell_type": "code",
   "execution_count": 1,
   "metadata": {},
   "outputs": [],
   "source": [
    "import numpy as np\n",
    "import pandas as pd\n",
    "import matplotlib.pyplot as plt\n",
    "import seaborn as sns\n",
    "from sklearn.datasets import load_digits"
   ]
  },
  {
   "cell_type": "code",
   "execution_count": 3,
   "metadata": {},
   "outputs": [
    {
     "name": "stdout",
     "output_type": "stream",
     "text": [
      "Original labels:\t [0 1 2 3 4 5 6 7 8 9 0 1 2 3 4 5 6 7 8 9 0 1 2 3 4 5 6 7 8 9]\n",
      "New binary labels:\t [0 0 1 0 0 0 0 0 0 0 0 0 1 0 0 0 0 0 0 0 0 0 1 0 0 0 0 0 0 0]\n"
     ]
    }
   ],
   "source": [
    "X, y = load_digits(return_X_y = True)\n",
    "# Creating a dataset with imbalanced binary classes:  \n",
    "# Negative class (0) is 'not digit 2' \n",
    "# Positive class (1) is 'digit 2'\n",
    "y_binary_imbalanced = y.copy()\n",
    "y_binary_imbalanced[y_binary_imbalanced != 2] = 0\n",
    "y_binary_imbalanced[y_binary_imbalanced == 2] = 1\n",
    "\n",
    "print('Original labels:\\t', y[0:30])\n",
    "print('New binary labels:\\t', y_binary_imbalanced[0:30])"
   ]
  },
  {
   "cell_type": "code",
   "execution_count": 4,
   "metadata": {},
   "outputs": [],
   "source": [
    "from sklearn.model_selection import train_test_split\n",
    "X_train, X_test, y_train, y_test = train_test_split(X, y_binary_imbalanced, random_state = 0)"
   ]
  },
  {
   "cell_type": "code",
   "execution_count": 17,
   "metadata": {},
   "outputs": [
    {
     "name": "stdout",
     "output_type": "stream",
     "text": [
      "Accuracy of SVM: 0.9977777777777778\n"
     ]
    }
   ],
   "source": [
    "#Train an SVM to classify the data\n",
    "from sklearn.svm import SVC\n",
    "svc = SVC(kernel = 'linear', C = 1).fit(X_train, y_train)\n",
    "print('Accuracy of SVM:', svc.score(X_test, y_test))"
   ]
  },
  {
   "cell_type": "code",
   "execution_count": 13,
   "metadata": {},
   "outputs": [
    {
     "name": "stdout",
     "output_type": "stream",
     "text": [
      "Accuracy of dummy classifier: 0.9022222222222223\n"
     ]
    }
   ],
   "source": [
    "#Train a dummy classifier\n",
    "from sklearn.dummy import DummyClassifier\n",
    "dummy_majority = DummyClassifier(strategy = 'most_frequent').fit(X_train, y_train)\n",
    "print('Accuracy of dummy classifier:', dummy_majority.score(X_test, y_test))"
   ]
  },
  {
   "cell_type": "code",
   "execution_count": 15,
   "metadata": {},
   "outputs": [
    {
     "name": "stdout",
     "output_type": "stream",
     "text": [
      "Accuracy of dummy classifier 2: 0.8177777777777778\n"
     ]
    }
   ],
   "source": [
    "dummy_strat = DummyClassifier(strategy = 'stratified').fit(X_train, y_train)\n",
    "print('Accuracy of dummy classifier 2:', dummy_strat.score(X_test, y_test))"
   ]
  },
  {
   "cell_type": "code",
   "execution_count": 18,
   "metadata": {},
   "outputs": [
    {
     "name": "stdout",
     "output_type": "stream",
     "text": [
      "Confusion matrices\n",
      "SVC:\n",
      " [[405   1]\n",
      " [  0  44]]\n",
      "Dummy 1:\n",
      " [[406   0]\n",
      " [ 44   0]]\n",
      "Dummy 2:\n",
      " [[358  48]\n",
      " [ 40   4]]\n"
     ]
    }
   ],
   "source": [
    "#Confusion matrices\n",
    "from sklearn.metrics import confusion_matrix\n",
    "svc_predict = svc.predict(X_test)\n",
    "dummy1_predict = dummy_majority.predict(X_test)\n",
    "dummy2_predict = dummy_strat.predict(X_test)\n",
    "\n",
    "print('Confusion matrices')\n",
    "print('SVC:\\n', confusion_matrix(y_test, svc_predict))\n",
    "print('Dummy 1:\\n', confusion_matrix(y_test, dummy1_predict))\n",
    "print('Dummy 2:\\n', confusion_matrix(y_test, dummy2_predict))"
   ]
  },
  {
   "cell_type": "code",
   "execution_count": 20,
   "metadata": {},
   "outputs": [
    {
     "name": "stdout",
     "output_type": "stream",
     "text": [
      "Classification reports\n",
      "SVC:\n",
      "               precision    recall  f1-score   support\n",
      "\n",
      "       not 2       1.00      1.00      1.00       406\n",
      "           2       0.98      1.00      0.99        44\n",
      "\n",
      "    accuracy                           1.00       450\n",
      "   macro avg       0.99      1.00      0.99       450\n",
      "weighted avg       1.00      1.00      1.00       450\n",
      "\n",
      "Dummy 2:\n",
      "               precision    recall  f1-score   support\n",
      "\n",
      "       not 2       0.90      0.88      0.89       406\n",
      "           2       0.08      0.09      0.08        44\n",
      "\n",
      "    accuracy                           0.80       450\n",
      "   macro avg       0.49      0.49      0.49       450\n",
      "weighted avg       0.82      0.80      0.81       450\n",
      "\n"
     ]
    }
   ],
   "source": [
    "from sklearn.metrics import classification_report\n",
    "print('Classification reports')\n",
    "print('SVC:\\n', classification_report(y_test, svc_predict, target_names = ['not 2', '2']))\n",
    "#print('Dummy 1:\\n', classification_report(y_test, dummy1_predict, target_names = ['not 2', '2']))\n",
    "print('Dummy 2:\\n', classification_report(y_test, dummy2_predict, target_names = ['not 2', '2']))"
   ]
  },
  {
   "cell_type": "markdown",
   "metadata": {},
   "source": [
    "# Decision functions"
   ]
  },
  {
   "cell_type": "code",
   "execution_count": 39,
   "metadata": {},
   "outputs": [
    {
     "data": {
      "text/plain": [
       "0.9844444444444445"
      ]
     },
     "execution_count": 39,
     "metadata": {},
     "output_type": "execute_result"
    }
   ],
   "source": [
    "from sklearn.linear_model import LogisticRegression\n",
    "lr = LogisticRegression(C = 0.001, max_iter = 10000).fit(X_train, y_train)\n",
    "lr.score(X_test, y_test)"
   ]
  },
  {
   "cell_type": "code",
   "execution_count": 40,
   "metadata": {},
   "outputs": [
    {
     "data": {
      "text/plain": [
       "[(1, 2.9093380619629916),\n",
       " (0, -2.6622087438655466),\n",
       " (1, 4.528564950407688),\n",
       " (0, -4.723250172272628),\n",
       " (0, -4.39120035511719),\n",
       " (0, -3.8539966163371955),\n",
       " (0, -2.5060516601494243),\n",
       " (0, -4.865073679733062),\n",
       " (0, -4.472041606660669),\n",
       " (0, -2.157416963537659),\n",
       " (1, 3.733670413366179),\n",
       " (0, -3.2942742339150484),\n",
       " (0, -6.042336285431816),\n",
       " (0, -4.750130100741871),\n",
       " (0, -4.440942991609699),\n",
       " (0, -4.458420361458783),\n",
       " (0, -6.605876142615401),\n",
       " (0, -4.850189466386133),\n",
       " (0, -8.025643598019121),\n",
       " (0, -2.7405781152225694)]"
      ]
     },
     "execution_count": 40,
     "metadata": {},
     "output_type": "execute_result"
    }
   ],
   "source": [
    "lr_scores = lr.decision_function(X_test)\n",
    "y_score_list = list(zip(y_test[0:20], lr_scores[0:20]))\n",
    "y_score_list"
   ]
  },
  {
   "cell_type": "code",
   "execution_count": 32,
   "metadata": {},
   "outputs": [
    {
     "data": {
      "image/png": "[encoded data removed]",
      "text/plain": [
       "<Figure size 432x288 with 1 Axes>"
      ]
     },
     "metadata": {
      "needs_background": "light"
     },
     "output_type": "display_data"
    },
    {
     "data": {
      "text/plain": [
       "array([ 0.49668553,  0.98926315,  1.95926974,  3.07650758,  3.44391461,\n",
       "        3.5169444 ,  3.97717041,  3.98929324,  4.0251095 ,  4.08788736,\n",
       "        4.14035459,  4.49124515,  4.75216606,  5.0233579 ,  5.14236627,\n",
       "        6.05393001,  6.08862967,  6.46225886,  6.74538494,  6.89747391,\n",
       "        7.7338763 ,  7.86635214,  8.36833116,  8.52966205,  9.20423882,\n",
       "        9.69401345,  9.98820449, 10.37215239, 10.76423496, 11.76943562,\n",
       "       13.20092827, 13.67832784, 13.93560534, 14.19987132, 14.91824526,\n",
       "       14.96875579, 15.24296113, 15.24412599, 16.09892835, 16.25903776,\n",
       "       17.19190179, 17.30326235, 19.27749445, 19.56870533])"
      ]
     },
     "execution_count": 32,
     "metadata": {},
     "output_type": "execute_result"
    }
   ],
   "source": [
    "from sklearn.metrics import precision_recall_curve\n",
    "precision, recall, thresholds = precision_recall_curve(y_test, lr_scores)\n",
    "\n",
    "plt.figure()\n",
    "plt.plot(precision, recall)\n",
    "plt.xlabel('Precision')\n",
    "plt.ylabel('Recall')\n",
    "plt.show()\n",
    "thresholds"
   ]
  },
  {
   "cell_type": "code",
   "execution_count": 33,
   "metadata": {},
   "outputs": [
    {
     "data": {
      "text/plain": [
       "array([1., 1., 1., 1., 1., 1., 1., 1., 1., 1., 1., 1., 1., 1., 1., 1., 1.,\n",
       "       1., 1., 1., 1., 1., 1., 1., 1., 1., 1., 1., 1., 1., 1., 1., 1., 1.,\n",
       "       1., 1., 1., 1., 1., 1., 1., 1., 1., 1., 1.])"
      ]
     },
     "execution_count": 33,
     "metadata": {},
     "output_type": "execute_result"
    }
   ],
   "source": [
    "precision"
   ]
  },
  {
   "cell_type": "code",
   "execution_count": 34,
   "metadata": {},
   "outputs": [
    {
     "data": {
      "text/plain": [
       "array([1.        , 0.97727273, 0.95454545, 0.93181818, 0.90909091,\n",
       "       0.88636364, 0.86363636, 0.84090909, 0.81818182, 0.79545455,\n",
       "       0.77272727, 0.75      , 0.72727273, 0.70454545, 0.68181818,\n",
       "       0.65909091, 0.63636364, 0.61363636, 0.59090909, 0.56818182,\n",
       "       0.54545455, 0.52272727, 0.5       , 0.47727273, 0.45454545,\n",
       "       0.43181818, 0.40909091, 0.38636364, 0.36363636, 0.34090909,\n",
       "       0.31818182, 0.29545455, 0.27272727, 0.25      , 0.22727273,\n",
       "       0.20454545, 0.18181818, 0.15909091, 0.13636364, 0.11363636,\n",
       "       0.09090909, 0.06818182, 0.04545455, 0.02272727, 0.        ])"
      ]
     },
     "execution_count": 34,
     "metadata": {},
     "output_type": "execute_result"
    }
   ],
   "source": [
    "recall"
   ]
  },
  {
   "cell_type": "code",
   "execution_count": 37,
   "metadata": {},
   "outputs": [
    {
     "data": {
      "text/plain": [
       "<sklearn.metrics._plot.precision_recall_curve.PrecisionRecallDisplay at 0x175cf5012b0>"
      ]
     },
     "execution_count": 37,
     "metadata": {},
     "output_type": "execute_result"
    },
    {
     "data": {
      "image/png": "[encoded data removed]",
      "text/plain": [
       "<Figure size 432x288 with 1 Axes>"
      ]
     },
     "metadata": {
      "needs_background": "light"
     },
     "output_type": "display_data"
    }
   ],
   "source": [
    "from sklearn.metrics import plot_precision_recall_curve\n",
    "plot_precision_recall_curve(svc, X_test, y_test)"
   ]
  },
  {
   "cell_type": "markdown",
   "metadata": {},
   "source": [
    "## ROC and AUC"
   ]
  },
  {
   "cell_type": "code",
   "execution_count": 41,
   "metadata": {},
   "outputs": [
    {
     "data": {
      "image/png": "[encoded data removed]",
      "text/plain": [
       "<Figure size 432x288 with 1 Axes>"
      ]
     },
     "metadata": {
      "needs_background": "light"
     },
     "output_type": "display_data"
    },
    {
     "name": "stdout",
     "output_type": "stream",
     "text": [
      "Area under the curve = 0.9998320644872368\n"
     ]
    }
   ],
   "source": [
    "from sklearn.metrics import roc_curve, auc\n",
    "fpr, tpr, _ = roc_curve(y_test, lr_scores)\n",
    "roc_auc = auc(fpr, tpr)\n",
    "\n",
    "plt.figure()\n",
    "plt.plot(fpr, tpr)\n",
    "plt.xlabel('False positive rate')\n",
    "plt.ylabel('True positive rate')\n",
    "plt.show()\n",
    "print('Area under the curve =', roc_auc)"
   ]
  },
  {
   "cell_type": "code",
   "execution_count": null,
   "metadata": {},
   "outputs": [],
   "source": []
  }
 ],
 "metadata": {
  "kernelspec": {
   "display_name": "Python 3",
   "language": "python",
   "name": "python3"
  },
  "language_info": {
   "codemirror_mode": {
    "name": "ipython",
    "version": 3
   },
   "file_extension": ".py",
   "mimetype": "text/x-python",
   "name": "python",
   "nbconvert_exporter": "python",
   "pygments_lexer": "ipython3",
   "version": "3.8.3"
  }
 },
 "nbformat": 4,
 "nbformat_minor": 4
}

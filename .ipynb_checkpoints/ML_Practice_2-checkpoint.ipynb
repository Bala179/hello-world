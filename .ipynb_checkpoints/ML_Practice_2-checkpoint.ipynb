{
 "cells": [
  {
   "cell_type": "code",
   "execution_count": 16,
   "metadata": {},
   "outputs": [],
   "source": [
    "# Note: This code is adapted from the 'Applied Machine Learning in Python' course (offered by University of Michigan on\n",
    "# Coursera)."
   ]
  },
  {
   "cell_type": "code",
   "execution_count": 1,
   "metadata": {},
   "outputs": [],
   "source": [
    "import numpy as np\n",
    "import pandas as pd\n",
    "import matplotlib.pyplot as plt\n",
    "import seaborn as sns\n",
    "from sklearn.datasets import load_digits"
   ]
  },
  {
   "cell_type": "markdown",
   "metadata": {},
   "source": [
    "# Loading the dataset"
   ]
  },
  {
   "cell_type": "code",
   "execution_count": 2,
   "metadata": {},
   "outputs": [
    {
     "name": "stdout",
     "output_type": "stream",
     "text": [
      "Original labels:\t [0 1 2 3 4 5 6 7 8 9 0 1 2 3 4 5 6 7 8 9 0 1 2 3 4 5 6 7 8 9]\n",
      "New binary labels:\t [0 0 1 0 0 0 0 0 0 0 0 0 1 0 0 0 0 0 0 0 0 0 1 0 0 0 0 0 0 0]\n"
     ]
    }
   ],
   "source": [
    "X, y = load_digits(return_X_y = True)\n",
    "# Creating a dataset with imbalanced binary classes:  \n",
    "# Negative class (0) is 'not digit 2' \n",
    "# Positive class (1) is 'digit 2'\n",
    "y_binary_imbalanced = y.copy()\n",
    "y_binary_imbalanced[y_binary_imbalanced != 2] = 0\n",
    "y_binary_imbalanced[y_binary_imbalanced == 2] = 1\n",
    "\n",
    "print('Original labels:\\t', y[0:30])\n",
    "print('New binary labels:\\t', y_binary_imbalanced[0:30])"
   ]
  },
  {
   "cell_type": "markdown",
   "metadata": {},
   "source": [
    "# SVM vs Dummy Classifier"
   ]
  },
  {
   "cell_type": "code",
   "execution_count": 3,
   "metadata": {},
   "outputs": [],
   "source": [
    "from sklearn.model_selection import train_test_split\n",
    "X_train, X_test, y_train, y_test = train_test_split(X, y_binary_imbalanced, random_state = 0)"
   ]
  },
  {
   "cell_type": "code",
   "execution_count": 4,
   "metadata": {},
   "outputs": [
    {
     "name": "stdout",
     "output_type": "stream",
     "text": [
      "Accuracy of SVM: 0.9977777777777778\n"
     ]
    }
   ],
   "source": [
    "#Train an SVM to classify the data\n",
    "from sklearn.svm import SVC\n",
    "svc = SVC(kernel = 'linear', C = 1).fit(X_train, y_train)\n",
    "print('Accuracy of SVM:', svc.score(X_test, y_test))"
   ]
  },
  {
   "cell_type": "code",
   "execution_count": 5,
   "metadata": {},
   "outputs": [
    {
     "name": "stdout",
     "output_type": "stream",
     "text": [
      "Accuracy of dummy classifier: 0.9022222222222223\n"
     ]
    }
   ],
   "source": [
    "#Train a dummy classifier\n",
    "from sklearn.dummy import DummyClassifier\n",
    "dummy_majority = DummyClassifier(strategy = 'most_frequent').fit(X_train, y_train)\n",
    "print('Accuracy of dummy classifier:', dummy_majority.score(X_test, y_test))"
   ]
  },
  {
   "cell_type": "code",
   "execution_count": 6,
   "metadata": {},
   "outputs": [
    {
     "name": "stdout",
     "output_type": "stream",
     "text": [
      "Accuracy of dummy classifier 2: 0.82\n"
     ]
    }
   ],
   "source": [
    "dummy_strat = DummyClassifier(strategy = 'stratified').fit(X_train, y_train)\n",
    "print('Accuracy of dummy classifier 2:', dummy_strat.score(X_test, y_test))"
   ]
  },
  {
   "cell_type": "code",
   "execution_count": 7,
   "metadata": {},
   "outputs": [
    {
     "name": "stdout",
     "output_type": "stream",
     "text": [
      "Confusion matrices\n",
      "SVC:\n",
      " [[405   1]\n",
      " [  0  44]]\n",
      "Dummy 1:\n",
      " [[406   0]\n",
      " [ 44   0]]\n",
      "Dummy 2:\n",
      " [[364  42]\n",
      " [ 38   6]]\n"
     ]
    }
   ],
   "source": [
    "#Confusion matrices\n",
    "from sklearn.metrics import confusion_matrix\n",
    "svc_predict = svc.predict(X_test)\n",
    "dummy1_predict = dummy_majority.predict(X_test)\n",
    "dummy2_predict = dummy_strat.predict(X_test)\n",
    "\n",
    "print('Confusion matrices')\n",
    "print('SVC:\\n', confusion_matrix(y_test, svc_predict))\n",
    "print('Dummy 1:\\n', confusion_matrix(y_test, dummy1_predict))\n",
    "print('Dummy 2:\\n', confusion_matrix(y_test, dummy2_predict))"
   ]
  },
  {
   "cell_type": "code",
   "execution_count": 8,
   "metadata": {},
   "outputs": [
    {
     "name": "stdout",
     "output_type": "stream",
     "text": [
      "Classification reports\n",
      "SVC:\n",
      "               precision    recall  f1-score   support\n",
      "\n",
      "       not 2       1.00      1.00      1.00       406\n",
      "           2       0.98      1.00      0.99        44\n",
      "\n",
      "    accuracy                           1.00       450\n",
      "   macro avg       0.99      1.00      0.99       450\n",
      "weighted avg       1.00      1.00      1.00       450\n",
      "\n",
      "Dummy 2:\n",
      "               precision    recall  f1-score   support\n",
      "\n",
      "       not 2       0.91      0.90      0.90       406\n",
      "           2       0.12      0.14      0.13        44\n",
      "\n",
      "    accuracy                           0.82       450\n",
      "   macro avg       0.52      0.52      0.52       450\n",
      "weighted avg       0.83      0.82      0.83       450\n",
      "\n"
     ]
    }
   ],
   "source": [
    "from sklearn.metrics import classification_report\n",
    "print('Classification reports')\n",
    "print('SVC:\\n', classification_report(y_test, svc_predict, target_names = ['not 2', '2']))\n",
    "#print('Dummy 1:\\n', classification_report(y_test, dummy1_predict, target_names = ['not 2', '2']))\n",
    "print('Dummy 2:\\n', classification_report(y_test, dummy2_predict, target_names = ['not 2', '2']))"
   ]
  },
  {
   "cell_type": "markdown",
   "metadata": {},
   "source": [
    "# Decision functions"
   ]
  },
  {
   "cell_type": "code",
   "execution_count": 9,
   "metadata": {},
   "outputs": [
    {
     "data": {
      "text/plain": [
       "0.9844444444444445"
      ]
     },
     "execution_count": 9,
     "metadata": {},
     "output_type": "execute_result"
    }
   ],
   "source": [
    "from sklearn.linear_model import LogisticRegression\n",
    "lr = LogisticRegression(C = 0.001, max_iter = 10000).fit(X_train, y_train)\n",
    "lr.score(X_test, y_test)"
   ]
  },
  {
   "cell_type": "code",
   "execution_count": 10,
   "metadata": {},
   "outputs": [
    {
     "data": {
      "text/plain": [
       "[(1, 2.9093380619629916),\n",
       " (0, -2.6622087438655466),\n",
       " (1, 4.528564950407688),\n",
       " (0, -4.723250172272628),\n",
       " (0, -4.39120035511719),\n",
       " (0, -3.8539966163371955),\n",
       " (0, -2.5060516601494243),\n",
       " (0, -4.865073679733062),\n",
       " (0, -4.472041606660669),\n",
       " (0, -2.157416963537659),\n",
       " (1, 3.733670413366179),\n",
       " (0, -3.2942742339150484),\n",
       " (0, -6.042336285431816),\n",
       " (0, -4.750130100741871),\n",
       " (0, -4.440942991609699),\n",
       " (0, -4.458420361458783),\n",
       " (0, -6.605876142615401),\n",
       " (0, -4.850189466386133),\n",
       " (0, -8.025643598019121),\n",
       " (0, -2.7405781152225694)]"
      ]
     },
     "execution_count": 10,
     "metadata": {},
     "output_type": "execute_result"
    }
   ],
   "source": [
    "lr_scores = lr.decision_function(X_test)\n",
    "y_score_list = list(zip(y_test[0:20], lr_scores[0:20]))\n",
    "y_score_list"
   ]
  },
  {
   "cell_type": "code",
   "execution_count": 11,
   "metadata": {},
   "outputs": [
    {
     "data": {
      "image/png": "[encoded data removed]",
      "text/plain": [
       "<Figure size 432x288 with 1 Axes>"
      ]
     },
     "metadata": {
      "needs_background": "light"
     },
     "output_type": "display_data"
    },
    {
     "data": {
      "text/plain": [
       "array([-1.08126121, -1.02524423, -0.90581103, -0.73507127, -0.60248217,\n",
       "       -0.4987285 , -0.37013979, -0.23196721,  0.04451861,  0.07147361,\n",
       "        0.07556783,  0.08031145,  0.09081187,  0.34417737,  0.48911944,\n",
       "        0.51282656,  0.55395532,  0.66389689,  1.07376377,  1.2069766 ,\n",
       "        1.21715535,  1.29461563,  1.3035579 ,  1.39330754,  1.72152925,\n",
       "        1.7418561 ,  1.82350574,  1.8277834 ,  1.88256258,  2.39950593,\n",
       "        2.60364259,  2.68253779,  2.84112342,  2.90933806,  2.98323781,\n",
       "        2.98877835,  3.09546907,  3.17009865,  3.21378515,  3.242953  ,\n",
       "        3.2533127 ,  3.42307693,  3.48336638,  3.73367041,  4.52856495])"
      ]
     },
     "execution_count": 11,
     "metadata": {},
     "output_type": "execute_result"
    }
   ],
   "source": [
    "from sklearn.metrics import precision_recall_curve\n",
    "precision, recall, thresholds = precision_recall_curve(y_test, lr_scores)\n",
    "\n",
    "plt.figure()\n",
    "plt.plot(precision, recall)\n",
    "plt.xlabel('Precision')\n",
    "plt.ylabel('Recall')\n",
    "plt.show()\n",
    "thresholds"
   ]
  },
  {
   "cell_type": "code",
   "execution_count": 12,
   "metadata": {},
   "outputs": [
    {
     "data": {
      "text/plain": [
       "array([0.97777778, 0.97727273, 0.97674419, 0.97619048, 1.        ,\n",
       "       1.        , 1.        , 1.        , 1.        , 1.        ,\n",
       "       1.        , 1.        , 1.        , 1.        , 1.        ,\n",
       "       1.        , 1.        , 1.        , 1.        , 1.        ,\n",
       "       1.        , 1.        , 1.        , 1.        , 1.        ,\n",
       "       1.        , 1.        , 1.        , 1.        , 1.        ,\n",
       "       1.        , 1.        , 1.        , 1.        , 1.        ,\n",
       "       1.        , 1.        , 1.        , 1.        , 1.        ,\n",
       "       1.        , 1.        , 1.        , 1.        , 1.        ,\n",
       "       1.        ])"
      ]
     },
     "execution_count": 12,
     "metadata": {},
     "output_type": "execute_result"
    }
   ],
   "source": [
    "precision"
   ]
  },
  {
   "cell_type": "code",
   "execution_count": 13,
   "metadata": {},
   "outputs": [
    {
     "data": {
      "text/plain": [
       "array([1.        , 0.97727273, 0.95454545, 0.93181818, 0.93181818,\n",
       "       0.90909091, 0.88636364, 0.86363636, 0.84090909, 0.81818182,\n",
       "       0.79545455, 0.77272727, 0.75      , 0.72727273, 0.70454545,\n",
       "       0.68181818, 0.65909091, 0.63636364, 0.61363636, 0.59090909,\n",
       "       0.56818182, 0.54545455, 0.52272727, 0.5       , 0.47727273,\n",
       "       0.45454545, 0.43181818, 0.40909091, 0.38636364, 0.36363636,\n",
       "       0.34090909, 0.31818182, 0.29545455, 0.27272727, 0.25      ,\n",
       "       0.22727273, 0.20454545, 0.18181818, 0.15909091, 0.13636364,\n",
       "       0.11363636, 0.09090909, 0.06818182, 0.04545455, 0.02272727,\n",
       "       0.        ])"
      ]
     },
     "execution_count": 13,
     "metadata": {},
     "output_type": "execute_result"
    }
   ],
   "source": [
    "recall"
   ]
  },
  {
   "cell_type": "code",
   "execution_count": 14,
   "metadata": {},
   "outputs": [
    {
     "data": {
      "text/plain": [
       "<sklearn.metrics._plot.precision_recall_curve.PrecisionRecallDisplay at 0x1987a15c130>"
      ]
     },
     "execution_count": 14,
     "metadata": {},
     "output_type": "execute_result"
    },
    {
     "data": {
      "image/png": "[encoded data removed]",
      "text/plain": [
       "<Figure size 432x288 with 1 Axes>"
      ]
     },
     "metadata": {
      "needs_background": "light"
     },
     "output_type": "display_data"
    }
   ],
   "source": [
    "from sklearn.metrics import plot_precision_recall_curve\n",
    "plot_precision_recall_curve(svc, X_test, y_test)"
   ]
  },
  {
   "cell_type": "markdown",
   "metadata": {},
   "source": [
    "## ROC and AUC"
   ]
  },
  {
   "cell_type": "code",
   "execution_count": 15,
   "metadata": {},
   "outputs": [
    {
     "data": {
      "image/png": "[encoded data removed]",
      "text/plain": [
       "<Figure size 432x288 with 1 Axes>"
      ]
     },
     "metadata": {
      "needs_background": "light"
     },
     "output_type": "display_data"
    },
    {
     "name": "stdout",
     "output_type": "stream",
     "text": [
      "Area under the curve = 0.9998320644872368\n"
     ]
    }
   ],
   "source": [
    "from sklearn.metrics import roc_curve, auc\n",
    "fpr, tpr, _ = roc_curve(y_test, lr_scores)\n",
    "roc_auc = auc(fpr, tpr)\n",
    "\n",
    "plt.figure()\n",
    "plt.plot(fpr, tpr)\n",
    "plt.xlabel('False positive rate')\n",
    "plt.ylabel('True positive rate')\n",
    "plt.show()\n",
    "print('Area under the curve =', roc_auc)"
   ]
  },
  {
   "cell_type": "code",
   "execution_count": null,
   "metadata": {},
   "outputs": [],
   "source": []
  }
 ],
 "metadata": {
  "kernelspec": {
   "display_name": "Python 3",
   "language": "python",
   "name": "python3"
  },
  "language_info": {
   "codemirror_mode": {
    "name": "ipython",
    "version": 3
   },
   "file_extension": ".py",
   "mimetype": "text/x-python",
   "name": "python",
   "nbconvert_exporter": "python",
   "pygments_lexer": "ipython3",
   "version": "3.8.3"
  }
 },
 "nbformat": 4,
 "nbformat_minor": 4
}
